{
 "cells": [
  {
   "cell_type": "code",
   "execution_count": 1,
   "metadata": {},
   "outputs": [],
   "source": [
    "import bash_builder as bb\n",
    "from bash_builder import get_subdirs_list\n",
    "import json"
   ]
  },
  {
   "cell_type": "code",
   "execution_count": null,
   "metadata": {},
   "outputs": [],
   "source": []
  },
  {
   "cell_type": "code",
   "execution_count": 3,
   "metadata": {},
   "outputs": [
    {
     "name": "stderr",
     "output_type": "stream",
     "text": [
      "WARNING:root:[get_scrips_list] [Errno 2] No such file or directory: '../Scripts/autoGnome/info.json'\n",
      "WARNING:root:[get_scrips_list] [Errno 2] No such file or directory: '../Scripts/GitZen/info.json'\n"
     ]
    }
   ],
   "source": [
    "data = bb.get_scrips_list()"
   ]
  },
  {
   "cell_type": "code",
   "execution_count": 4,
   "metadata": {},
   "outputs": [
    {
     "data": {
      "text/plain": [
       "{'name': 'Git',\n",
       " 'tags': ['VCS', 'Programm', 'CLI'],\n",
       " 'dependence': [],\n",
       " 'installers': {'default': 'install.sh'}}"
      ]
     },
     "execution_count": 4,
     "metadata": {},
     "output_type": "execute_result"
    }
   ],
   "source": [
    "data['GIT']"
   ]
  },
  {
   "cell_type": "code",
   "execution_count": null,
   "metadata": {},
   "outputs": [],
   "source": []
  },
  {
   "cell_type": "code",
   "execution_count": 26,
   "metadata": {},
   "outputs": [],
   "source": [
    "subdirs = get_subdirs_list(\"../Scripts\")\n",
    "sctips = dict()"
   ]
  },
  {
   "cell_type": "code",
   "execution_count": 35,
   "metadata": {},
   "outputs": [],
   "source": [
    "subdir = subdirs[1]\n",
    "# subdir = '123'"
   ]
  },
  {
   "cell_type": "code",
   "execution_count": 36,
   "metadata": {},
   "outputs": [],
   "source": [
    "try:\n",
    "    with open('../Scripts/'+subdir+'/info.json') as json_file:\n",
    "        sctips[subdir] = json.load(json_file)\n",
    "except FileNotFoundError as e:\n",
    "    print(e)"
   ]
  },
  {
   "cell_type": "code",
   "execution_count": 38,
   "metadata": {},
   "outputs": [],
   "source": [
    "for subdir in subdirs:\n",
    "    try:\n",
    "        with open('../Scripts/'+subdir+'/info.json') as json_file:\n",
    "            sctips[subdir] = json.load(json_file)\n",
    "    except FileNotFoundError as e:\n",
    "        pass"
   ]
  },
  {
   "cell_type": "code",
   "execution_count": 39,
   "metadata": {},
   "outputs": [
    {
     "data": {
      "text/plain": [
       "{'GIT': {'name': 'Git',\n",
       "  'tags': ['VCS', 'Programm', 'CLI'],\n",
       "  'dependence': [],\n",
       "  'installers': {'default': 'install.sh'}},\n",
       " 'Telegram': {'name': 'Telegram',\n",
       "  'tags': ['Messager'],\n",
       "  'dependence': [],\n",
       "  'installers': {'default': 'install.sh'}},\n",
       " 'Audacity': {'name': 'Audacity',\n",
       "  'tags': ['Audio editor', 'Programm', 'GUI'],\n",
       "  'dependence': [],\n",
       "  'installers': {'default': 'install.sh'}},\n",
       " 'Nautilus Terminal 3': {'name': 'Nautilus',\n",
       "  'tags': ['GUI', 'Programm', 'CLI'],\n",
       "  'dependence': [],\n",
       "  'installers': {'default': 'install.sh'}},\n",
       " 'Docker': {'name': 'Docker',\n",
       "  'tags': ['Containers', 'Programm', 'CLI'],\n",
       "  'dependence': [],\n",
       "  'installers': {'default': 'install.sh'}},\n",
       " 'VSCode': {'name': 'VSCode',\n",
       "  'tags': ['IDE', 'Programm', 'GUI'],\n",
       "  'dependence': [],\n",
       "  'installers': {'default': 'install.sh'}},\n",
       " 'Python3': {'name': 'Python3',\n",
       "  'tags': ['Programm language'],\n",
       "  'dependence': [],\n",
       "  'installers': {'default': 'install.sh'}},\n",
       " 'WineHQ': {'name': 'WineHQ',\n",
       "  'tags': ['Windows', 'Programm', 'GUI'],\n",
       "  'dependence': [],\n",
       "  'installers': {'default': 'install.sh'}},\n",
       " 'Anaconda': {'name': 'Anaconda',\n",
       "  'tags': ['Platform ', 'Programm', 'CLI', 'Python'],\n",
       "  'dependence': [],\n",
       "  'installers': {'default': 'install.sh'}},\n",
       " 'Discord': {'name': 'Discord',\n",
       "  'tags': ['Voice & text chat app', 'Programm', 'GUI'],\n",
       "  'dependence': [],\n",
       "  'installers': {'default': 'install.sh'}},\n",
       " 'GoogleChrome': {'name': 'GoogleChrome',\n",
       "  'tags': ['Browser', 'Programm', 'GUI'],\n",
       "  'dependence': [],\n",
       "  'installers': {'default': 'install.sh'}},\n",
       " 'Nodejs': {'name': 'NodeJs',\n",
       "  'tags': ['Programm language'],\n",
       "  'dependence': [],\n",
       "  'installers': {'default': 'install.sh'}},\n",
       " 'Gparted': {'name': 'Gparted',\n",
       "  'tags': ['Managing disk partitions', 'Programm', 'GUI'],\n",
       "  'dependence': [],\n",
       "  'installers': {'default': 'install.sh'}},\n",
       " 'Krita': {'name': 'krita',\n",
       "  'tags': ['Graphics editor', 'Programm', 'GUI'],\n",
       "  'dependence': [],\n",
       "  'installers': {'default': 'install.sh'}},\n",
       " 'ZSH': {'name': 'ZSH',\n",
       "  'tags': ['framework', 'terminal', 'CLI'],\n",
       "  'dependence': [],\n",
       "  'installers': {'default': 'install.sh'}},\n",
       " 'VirtualBox': {'name': 'VirtualBox',\n",
       "  'tags': ['VM', 'Programm', 'GUI'],\n",
       "  'dependence': [],\n",
       "  'installers': {'default': 'install.sh'}},\n",
       " 'Synergy': {'name': 'Synergy',\n",
       "  'tags': ['Sharing mouse and keyboard between multiple computers',\n",
       "   'Programm',\n",
       "   'GUI'],\n",
       "  'dependence': [],\n",
       "  'installers': {'default': 'install.sh'}},\n",
       " 'Remmina': {'name': 'Remmina',\n",
       "  'tags': ['GUI', 'SSH', 'Client'],\n",
       "  'dependence': [],\n",
       "  'installers': {'default': 'install.sh'}},\n",
       " 'qBittorrent': {'name': 'qBittorrent',\n",
       "  'tags': ['BitTorrent', 'Programm', 'GUI', 'P2P'],\n",
       "  'dependence': [],\n",
       "  'installers': {'default': 'install.sh'}},\n",
       " 'Java8': {'name': 'Java8',\n",
       "  'tags': ['Programm language'],\n",
       "  'dependence': [],\n",
       "  'installers': {'default': 'install.sh'}},\n",
       " 'Tmux': {'name': 'tmux',\n",
       "  'tags': ['Screen', 'Programm', 'CLI'],\n",
       "  'dependence': [],\n",
       "  'installers': {'default': 'install.sh'}},\n",
       " 'VLC': {'name': 'VLS',\n",
       "  'tags': ['Media player', 'Programm', 'GUI'],\n",
       "  'dependence': [],\n",
       "  'installers': {'default': 'install.sh'}},\n",
       " 'Vivaldi Browser': {'name': 'Vivaldi Browser',\n",
       "  'tags': ['Browser', 'Programm', 'GUI'],\n",
       "  'dependence': [],\n",
       "  'installers': {'default': 'install.sh'}}}"
      ]
     },
     "execution_count": 39,
     "metadata": {},
     "output_type": "execute_result"
    }
   ],
   "source": [
    "sctips"
   ]
  },
  {
   "cell_type": "code",
   "execution_count": null,
   "metadata": {},
   "outputs": [],
   "source": []
  }
 ],
 "metadata": {
  "kernelspec": {
   "display_name": "Python 3",
   "language": "python",
   "name": "python3"
  },
  "language_info": {
   "codemirror_mode": {
    "name": "ipython",
    "version": 3
   },
   "file_extension": ".py",
   "mimetype": "text/x-python",
   "name": "python",
   "nbconvert_exporter": "python",
   "pygments_lexer": "ipython3",
   "version": "3.7.3"
  }
 },
 "nbformat": 4,
 "nbformat_minor": 4
}
